{
 "cells": [
  {
   "cell_type": "code",
   "execution_count": 1,
   "metadata": {
    "collapsed": false
   },
   "outputs": [],
   "source": [
    "import copy\n",
    "import os, sys\n",
    "os.chdir('..')\n",
    "import numpy as np\n",
    "import pandas as pd\n",
    "import matplotlib\n",
    "import matplotlib as mpl\n",
    "import matplotlib.pyplot as plt\n",
    "import matplotlib.cm as cm\n",
    "from mpl_toolkits.axes_grid1 import make_axes_locatable\n",
    "\n",
    "from scipy.stats.mstats import zscore\n",
    "\n",
    "# loa my modules\n",
    "from src.utils import load_pkl, unflatten\n",
    "from src.visualise import *\n",
    "\n",
    "import joblib\n",
    "import pickle\n",
    "\n",
    "# Built-in modules #\n",
    "import random\n",
    "\n",
    "# Third party modules #\n",
    "import numpy, scipy, matplotlib, pandas\n",
    "from matplotlib import pyplot\n",
    "import scipy.cluster.hierarchy as sch\n",
    "import scipy.spatial.distance as dist"
   ]
  },
  {
   "cell_type": "code",
   "execution_count": 2,
   "metadata": {
    "collapsed": false
   },
   "outputs": [],
   "source": [
    "model_path = './models/SCCA_Yeo7nodes_revision_4_0.80_0.50.pkl'\n",
    "label_path = './references/names.csv'\n",
    "dat_path = './data/processed/dict_SCCA_data_prepro_revision1.pkl'\n",
    "\n",
    "# load data\n",
    "model = joblib.load(model_path)\n",
    "dataset = load_pkl(dat_path)\n",
    "df_label = pd.read_csv(label_path)\n",
    "\n",
    "#df = pd.read_pickle(df_path)\n",
    "u, v = model.u * [1, 1, -1, 1] , model.v * [1, 1, -1, 1]\n",
    "n = model.n_components\n",
    "\n",
    "# create labels for the nodes\n",
    "seed_names = df_label.iloc[:, 0].apply(str) + '-' + df_label.iloc[:, -2] + '-' + df_label.iloc[:, -3] + ' ' + df_label.iloc[:, -1]\n",
    "\n",
    "# unflatten the functional corr coeff\n",
    "u_mat = []               \n",
    "for i in range(4):\n",
    "    u_mat.append(unflatten(u[:, i]))"
   ]
  },
  {
   "cell_type": "code",
   "execution_count": 3,
   "metadata": {
    "collapsed": true
   },
   "outputs": [],
   "source": [
    "df_yeo7color = pd.read_csv('./references/yeo7_color.csv', index_col=0)"
   ]
  },
  {
   "cell_type": "code",
   "execution_count": 4,
   "metadata": {
    "collapsed": true
   },
   "outputs": [],
   "source": [
    "c_label = []\n",
    "for l in df_label.iloc[:, -2].values:\n",
    "    cur_color = df_yeo7color[l].values\n",
    "    hex_c = '#%02x%02x%02x' % tuple(cur_color)\n",
    "    c_label.append(mpl.colors.to_rgb(hex_c))"
   ]
  },
  {
   "cell_type": "code",
   "execution_count": 5,
   "metadata": {
    "collapsed": true
   },
   "outputs": [],
   "source": [
    "plt.close()\n",
    "for i in range(4):\n",
    "    set_text_size(8)\n",
    "    fig = plt.figure(figsize=(20, 20))\n",
    "    ax = fig.add_subplot(111)\n",
    "    max = np.abs(u_mat[i]).max()\n",
    "    m = ax.matshow(u_mat[i], vmax=max, vmin=-max, cmap='RdBu_r')\n",
    "    ax.set_xticks(np.arange(u_mat[i].shape[1]))\n",
    "    ax.set_yticks(np.arange(u_mat[i].shape[0]))\n",
    "    ax.set_xticklabels(seed_names, rotation='vertical')\n",
    "    ax.set_yticklabels(seed_names)\n",
    "    for xtick, color in zip(ax.get_xticklabels(), c_label):\n",
    "        xtick.set_color(color)\n",
    "    for ytick, color in zip(ax.get_yticklabels(), c_label):\n",
    "        ytick.set_color(color)\n",
    "    fig.colorbar(m)\n",
    "    plt.savefig(\"reports/plots/yeo7node_{}.png\".format(i + 1), dpi=300, tight_layout=True)"
   ]
  },
  {
   "cell_type": "markdown",
   "metadata": {},
   "source": [
    "# try to average the correlation coefficents"
   ]
  },
  {
   "cell_type": "code",
   "execution_count": 5,
   "metadata": {
    "collapsed": true
   },
   "outputs": [],
   "source": [
    "yeo7_names = ['VIS', 'S-M', 'VAN', 'DAN', 'LIM', 'FPN', 'DMN']\n",
    "yeo7_fullnames = ['Visual', 'Somatomotor', 'VentralAttention', 'DorsalAttention', 'Limbic', 'Frontoparietal', 'Default']"
   ]
  },
  {
   "cell_type": "code",
   "execution_count": 6,
   "metadata": {
    "collapsed": true
   },
   "outputs": [],
   "source": [
    "import numpy as np"
   ]
  },
  {
   "cell_type": "code",
   "execution_count": 7,
   "metadata": {
    "collapsed": false
   },
   "outputs": [],
   "source": [
    "summary_mat = np.zeros((7, 7, 4))\n",
    "for k in range(n):\n",
    "    df = pd.DataFrame(u_mat[k], columns=df_label.iloc[:, -2].values, index=df_label.iloc[:, -2].values)\n",
    "    for i, x in enumerate(yeo7_fullnames):\n",
    "        for j, y in enumerate(yeo7_fullnames): \n",
    "            mat = df.loc[x, y].values.mean()\n",
    "            summary_mat[i, j, k] = mat"
   ]
  },
  {
   "cell_type": "code",
   "execution_count": 8,
   "metadata": {
    "collapsed": true
   },
   "outputs": [],
   "source": [
    "from src.visualise import rank_labels"
   ]
  },
  {
   "cell_type": "code",
   "execution_count": 9,
   "metadata": {
    "collapsed": true
   },
   "outputs": [],
   "source": [
    "df_v = pd.DataFrame(v, index=dataset['MRIQ_labels'])"
   ]
  },
  {
   "cell_type": "code",
   "execution_count": 12,
   "metadata": {
    "collapsed": true
   },
   "outputs": [],
   "source": [
    "def sparse_row(seri_v):\n",
    "    vi, cur_v_labels = rank_labels(seri_v)\n",
    "    idx = np.isnan(vi).reshape((vi.shape[0]))\n",
    "    vi = vi[~idx]\n",
    "    vi = vi.reshape((vi.shape[0], 1))\n",
    "    cur_v_labels = np.array(cur_v_labels)[~idx] \n",
    "    return vi, cur_v_labels"
   ]
  },
  {
   "cell_type": "code",
   "execution_count": 13,
   "metadata": {
    "collapsed": true
   },
   "outputs": [],
   "source": [
    "u_max = np.abs(summary_mat).max()\n",
    "v_max = np.abs(v).max()"
   ]
  },
  {
   "cell_type": "code",
   "execution_count": 59,
   "metadata": {
    "collapsed": false
   },
   "outputs": [
    {
     "data": {
      "image/png": "[encoded data removed]",
      "text/plain": [
       "<matplotlib.figure.Figure at 0x7f4e4f3abb90>"
      ]
     },
     "metadata": {},
     "output_type": "display_data"
    },
    {
     "data": {
      "image/png": "[encoded data removed]",
      "text/plain": [
       "<matplotlib.figure.Figure at 0x7f4e4ac32b10>"
      ]
     },
     "metadata": {},
     "output_type": "display_data"
    },
    {
     "data": {
      "image/png": "[encoded data removed]",
      "text/plain": [
       "<matplotlib.figure.Figure at 0x7f4e4aacc890>"
      ]
     },
     "metadata": {},
     "output_type": "display_data"
    },
    {
     "data": {
      "image/png": "[encoded data removed]",
      "text/plain": [
       "<matplotlib.figure.Figure at 0x7f4e4f8ae610>"
      ]
     },
     "metadata": {},
     "output_type": "display_data"
    }
   ],
   "source": [
    "set_text_size(10)\n",
    "for i in range(n):\n",
    "    # thought probe\n",
    "    vi, cur_v_labels = sparse_row(df_v.iloc[:, i])\n",
    "    \n",
    "    # between networks\n",
    "    mat = np.tril(summary_mat[..., i], 0)\n",
    "    mat[np.triu_indices(mat.shape[0], 1)] = np.nan\n",
    "    cur_df = pd.DataFrame(mat, columns=yeo7_names, index=yeo7_names)\n",
    "    \n",
    "    # within networks\n",
    "    within_net = np.mean(summary_mat[..., i], axis=0).reshape(7,1)\n",
    "    \n",
    "    fig = plt.figure(figsize=(6, 2.5))\n",
    "    ax = fig.add_subplot(131)\n",
    "    t = ax.matshow(vi, vmax=v_max, vmin=-v_max, cmap='RdBu_r')\n",
    "    ax.set_xticks(np.arange(vi.shape[1]))\n",
    "    ax.set_yticks(np.arange(vi.shape[0]))\n",
    "    ax.set_xticklabels([' '])\n",
    "    ax.set_yticklabels(cur_v_labels)\n",
    "    ax.set_title('Thoughts', fontsize=16)\n",
    "#     divider = make_axes_locatable(ax)\n",
    "#     cax2 = divider.append_axes(\"right\", size=\"50%\", pad=\"30%\")\n",
    "#     cb = fig.colorbar(t, cax=cax2)\n",
    "#     cb.ax.tick_params(labelsize=10)\n",
    "    \n",
    "    ax = fig.add_subplot(132)\n",
    "    m1 = ax.matshow(cur_df.values, vmax=u_max, vmin=-u_max, cmap='RdBu_r')\n",
    "    ax.set_xticks(np.arange(cur_df.shape[1]))\n",
    "    ax.set_yticks(np.arange(cur_df.shape[0]))\n",
    "    ax.set_xticklabels([' '])\n",
    "    ax.set_yticklabels(yeo7_names)\n",
    "    ax.set_title('Between', fontsize=16)\n",
    "    ax.set_frame_on(False)\n",
    "    ax.plot([-0.5, -0.5], [-0.5, 6.5], ls='-', c='.1')\n",
    "    ax.plot([-0.5, 6.5], [6.5, 6.5], ls='-', c='.1')\n",
    "    ax.xaxis.set_ticks_position('bottom')\n",
    "    \n",
    "    ax = fig.add_subplot(133)\n",
    "    m2 = ax.matshow(within_net, vmax=u_max, vmin=-u_max, cmap='RdBu_r')\n",
    "    ax.set_xticks(np.arange(within_net.shape[1]))\n",
    "    ax.set_yticks(np.arange(within_net.shape[0]))\n",
    "    ax.set_xticklabels(' ')\n",
    "    ax.set_yticklabels(yeo7_names)\n",
    "    ax.set_title('Within', fontsize=16)\n",
    "    \n",
    "#     divider = make_axes_locatable(ax)\n",
    "#     cax2 = divider.append_axes(\"right\", size=\"30%\", pad=\"20%\")\n",
    "#     cb = fig.colorbar(m2, cax=cax2)\n",
    "#     cb.ax.tick_params(labelsize=10)\n",
    "    plt.tight_layout()\n",
    "    plt.savefig('./reports/plots/yeo7nodes_bwsummary_{}.png'.format(i + 1), dpi=300)\n",
    "    plt.show()"
   ]
  },
  {
   "cell_type": "code",
   "execution_count": 21,
   "metadata": {
    "collapsed": false
   },
   "outputs": [],
   "source": [
    "master = []\n",
    "vmax = np.abs(v).max()\n",
    "vmin = -vmax\n",
    "for i in range(4):\n",
    "    rescale = (v[:,i] - vmin) / (vmax - vmin)\n",
    "    colors_hex = []\n",
    "    for c in cm.RdBu_r(rescale):\n",
    "        colors_hex.append(matplotlib.colors.to_hex(c))\n",
    "    master.append(colors_hex)\n",
    "colors_hex = np.array(master).T\n",
    "df_v_color = pd.DataFrame(colors_hex, index=dataset['MRIQ_labels'])\n",
    "df_v_color.to_csv('./reports/plots/wordcloud_colors.csv')\n",
    "df_v.to_csv('./reports/plots/v.csv')"
   ]
  },
  {
   "cell_type": "code",
   "execution_count": 49,
   "metadata": {
    "collapsed": false
   },
   "outputs": [
    {
     "data": {
      "image/png": "[encoded data removed]",
      "text/plain": [
       "<matplotlib.figure.Figure at 0x7f4e4aded310>"
      ]
     },
     "metadata": {},
     "output_type": "display_data"
    }
   ],
   "source": [
    "# word cloud colorbar \n",
    "set_text_size(10)\n",
    "\n",
    "fig = plt.figure(figsize=(2, 0.7))\n",
    "ax = fig.add_subplot(111)\n",
    "cmap = cm.RdBu_r\n",
    "norm = matplotlib.colors.Normalize(vmin=vmin, vmax=vmax)\n",
    "cb1 = mpl.colorbar.ColorbarBase(ax, cmap=cmap,\n",
    "                                norm=norm, orientation='horizontal')\n",
    "plt.tight_layout()\n",
    "plt.savefig('./reports/plots/wordcloud_cb.png', transparent=True, dpi=300)\n",
    "plt.show()"
   ]
  },
  {
   "cell_type": "code",
   "execution_count": 44,
   "metadata": {
    "collapsed": false
   },
   "outputs": [
    {
     "data": {
      "image/png": "[encoded data removed]",
      "text/plain": [
       "<matplotlib.figure.Figure at 0x7f4e4b097350>"
      ]
     },
     "metadata": {},
     "output_type": "display_data"
    }
   ],
   "source": [
    "# word cloud colorbar \n",
    "set_text_size(10)\n",
    "\n",
    "fig = plt.figure(figsize=(4, 0.8))\n",
    "ax = fig.add_subplot(111)\n",
    "cmap = cm.RdBu_r\n",
    "norm = matplotlib.colors.Normalize(vmin=-u_max, vmax=u_max)\n",
    "cb1 = mpl.colorbar.ColorbarBase(ax, cmap=cmap,\n",
    "                                norm=norm, orientation='horizontal')\n",
    "plt.tight_layout()\n",
    "plt.savefig('./reports/plots/fc_cb.png', transparent=True, dpi=300)\n",
    "plt.show()"
   ]
  },
  {
   "cell_type": "markdown",
   "metadata": {},
   "source": [
    "# within network connectivity"
   ]
  },
  {
   "cell_type": "code",
   "execution_count": null,
   "metadata": {
    "collapsed": true
   },
   "outputs": [],
   "source": [
    "for k in range(n):\n",
    "    df = pd.DataFrame(u_mat[k], columns=df_label.iloc[:, -2].values, index=df_label.iloc[:, -2].values)\n",
    "    for net in yeo7_names:\n",
    "        mat = df.loc[net, net].values\n",
    "        label_idx = df_label.loc[:, 'Yeo7'] == net\n",
    "        label_l = df_label.iloc[:, -3][label_idx]\n",
    "        label_r = df_label.iloc[:, -1][label_idx]\n",
    "        label = list((label_l + \" - \" +label_r).values)\n",
    "        \n",
    "        set_text_size(8)\n",
    "        fig = plt.figure(figsize=(10, 10))\n",
    "        ax = fig.add_subplot(111)\n",
    "\n",
    "        max_val = np.abs(mat).max()\n",
    "        \n",
    "        m = ax.matshow(mat, vmax=max_val, vmin=-max_val, cmap='RdBu_r')\n",
    "        ax.set_xticks(np.arange(mat.shape[1]))\n",
    "        ax.set_yticks(np.arange(mat.shape[0]))\n",
    "        ax.set_xticklabels(label, rotation='vertical')\n",
    "        ax.set_yticklabels(label)\n",
    "#         ax.set_frame_on(False)\n",
    "#         ax.plot([-0.5, -0.5], [-0.5, 6.5], ls='-', c='.1')\n",
    "#         ax.plot([-0.5, 6.5], [6.5, 6.5], ls='-', c='.1')\n",
    "        ax.xaxis.set_ticks_position('bottom')\n",
    "        ax.set_title('Component {} - {}'.format(k + 1, net))\n",
    "        fig.colorbar(m)\n",
    "        plt.savefig('./reports/plots/withinNetworks/com{}.png'.format(k + 1, net))"
   ]
  },
  {
   "cell_type": "code",
   "execution_count": 9,
   "metadata": {
    "collapsed": true
   },
   "outputs": [],
   "source": [
    "for k in range(n):\n",
    "    df = pd.DataFrame(u_mat[k], columns=df_label.iloc[:, -2].values, index=df_label.iloc[:, -2].values)\n",
    "    for net in yeo7_names:\n",
    "        mat = df.loc[net, net].values\n",
    "        label_idx = df_label.loc[:, 'Yeo7'] == net\n",
    "        label_l = df_label.iloc[:, -3][label_idx]\n",
    "        label_r = df_label.iloc[:, -1][label_idx]\n",
    "        label = list((label_l + \" - \" +label_r).values)\n",
    "        \n",
    "        set_text_size(8)\n",
    "        fig = plt.figure(figsize=(10, 10))\n",
    "        ax = fig.add_subplot(111)\n",
    "\n",
    "        max_val = np.abs(mat).max()\n",
    "        \n",
    "        m = ax.matshow(mat, vmax=max_val, vmin=-max_val, cmap='RdBu_r')\n",
    "        ax.set_xticks(np.arange(mat.shape[1]))\n",
    "        ax.set_yticks(np.arange(mat.shape[0]))\n",
    "        ax.set_xticklabels(label, rotation='vertical')\n",
    "        ax.set_yticklabels(label)\n",
    "#         ax.set_frame_on(False)\n",
    "#         ax.plot([-0.5, -0.5], [-0.5, 6.5], ls='-', c='.1')\n",
    "#         ax.plot([-0.5, 6.5], [6.5, 6.5], ls='-', c='.1')\n",
    "        ax.xaxis.set_ticks_position('bottom')\n",
    "        ax.set_title('Component {} - {}'.format(k + 1, net))\n",
    "        fig.colorbar(m)\n",
    "        plt.savefig('./reports/plots/withinNetworks/com{}_{}.png'.format(k + 1, net))"
   ]
  }
 ],
 "metadata": {
  "kernelspec": {
   "display_name": "Python 2",
   "language": "python",
   "name": "python2"
  },
  "language_info": {
   "codemirror_mode": {
    "name": "ipython",
    "version": 2
   },
   "file_extension": ".py",
   "mimetype": "text/x-python",
   "name": "python",
   "nbconvert_exporter": "python",
   "pygments_lexer": "ipython2",
   "version": "2.7.13"
  }
 },
 "nbformat": 4,
 "nbformat_minor": 2
}
