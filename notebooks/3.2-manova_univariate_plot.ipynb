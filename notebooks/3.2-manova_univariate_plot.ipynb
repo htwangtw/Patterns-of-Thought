{
 "cells": [
  {
   "cell_type": "code",
   "execution_count": 1,
   "metadata": {
    "collapsed": true
   },
   "outputs": [],
   "source": [
    "import os, sys\n",
    "import numpy as np\n",
    "import pandas as pd\n",
    "import matplotlib\n",
    "import matplotlib as mpl\n",
    "import matplotlib.pyplot as plt\n",
    "import matplotlib.cm as cm\n",
    "from mpl_toolkits.axes_grid1 import make_axes_locatable\n",
    "\n",
    "\n",
    "os.chdir('../')\n",
    "\n",
    "# loa my modules\n",
    "from src.utils import load_pkl\n",
    "from src.visualise import *"
   ]
  },
  {
   "cell_type": "code",
   "execution_count": 2,
   "metadata": {
    "collapsed": true
   },
   "outputs": [],
   "source": [
    "beta_path = ['./reports/revision/Yeo7node_questionnaires_paraest_beta.txt',\n",
    "            './reports/revision/Yeo7node_paraest_beta.txt']\n",
    "pval_path = ['./reports/revision/Yeo7node_questionnaires_paraest_p.txt',\n",
    "            './reports/revision/Yeo7node_paraest_p.txt']\n",
    "\n",
    "labels = [\n",
    "    ['BDI-II', 'Anx-S', 'Anx-T', 'NegUrge', 'lack of Premeditation', 'Perseverance', 'Sensation', 'PosUrge'],\n",
    "    ['CWI', 'Tower', 'TMT', 'DF', 'Prov', 'VF', 'WASI', 'WIAT'],\n",
    "]"
   ]
  },
  {
   "cell_type": "code",
   "execution_count": 7,
   "metadata": {
    "collapsed": false
   },
   "outputs": [
    {
     "data": {
      "image/png": "[encoded data removed]",
      "text/plain": [
       "<matplotlib.figure.Figure at 0x7fb685ae0790>"
      ]
     },
     "metadata": {},
     "output_type": "display_data"
    }
   ],
   "source": [
    "# plot univariate results\n",
    "set_text_size(18)\n",
    "\n",
    "fig = plt.figure(figsize=(6, 7))\n",
    "\n",
    "b = beta_path[1]\n",
    "p = pval_path[1]\n",
    "label = labels[1]\n",
    "    \n",
    "ax = fig.add_subplot(111)\n",
    "beta_val = pd.read_table(b, header=None).T\n",
    "p_val = pd.read_table(p, header=None).T\n",
    "\n",
    "t = ax.matshow((beta_val.values[1:, :].T* np.array([1, 1, -1, 1])),\n",
    "               vmax=0.5, vmin=-0.5,\n",
    "              cmap=\"RdBu_r\")\n",
    "\n",
    "ax.set_yticks(range(8))\n",
    "ax.set_xticks(range(4))\n",
    "ax.set_yticklabels(label)\n",
    "ax.set_xticklabels([\"1*\", \"2\", \"3*\", \"4\"])\n",
    "ax.set_xlabel('Component')\n",
    "# add significant info\n",
    "for (i,j),p in np.ndenumerate(p_val.values[1:, :]):\n",
    "    if p < .001:\n",
    "        plt.text(i,j,'***',ha='center',va='center', color='white')\n",
    "    elif p < .01:\n",
    "        plt.text(i,j,'**',ha='center',va='center', color='white')\n",
    "    elif p < .05:\n",
    "        plt.text(i,j,'*',ha='center',va='center', color='white')\n",
    "divider = make_axes_locatable(ax)\n",
    "cax = divider.append_axes(\"right\", size=\"10%\", pad=\"5%\")\n",
    "cb = fig.colorbar(t, cax=cax)\n",
    "cb.ax.tick_params(labelsize=10)\n",
    "cb.ax.set_title(r'$\\beta$')\n",
    "\n",
    "\n",
    "plt.tight_layout()\n",
    "# plt.savefig('./reports/plots/parameter_estimates_yeo7nodes_bon_both.png', bbox_inches='tight', dpi=300)\n",
    "plt.show()"
   ]
  }
 ],
 "metadata": {
  "kernelspec": {
   "display_name": "Python 2",
   "language": "python",
   "name": "python2"
  },
  "language_info": {
   "codemirror_mode": {
    "name": "ipython",
    "version": 2
   },
   "file_extension": ".py",
   "mimetype": "text/x-python",
   "name": "python",
   "nbconvert_exporter": "python",
   "pygments_lexer": "ipython2",
   "version": "2.7.13"
  }
 },
 "nbformat": 4,
 "nbformat_minor": 2
}
