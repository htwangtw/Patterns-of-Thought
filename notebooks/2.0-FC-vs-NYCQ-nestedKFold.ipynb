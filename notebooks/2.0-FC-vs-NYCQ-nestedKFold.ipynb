{
 "cells": [
  {
   "cell_type": "code",
   "execution_count": 1,
   "metadata": {
    "collapsed": true
   },
   "outputs": [],
   "source": [
    "import copy\n",
    "import os, sys\n",
    "import numpy as np\n",
    "import pandas as pd\n",
    "\n",
    "import joblib\n",
    "\n",
    "import matplotlib\n",
    "import matplotlib as mpl\n",
    "import matplotlib.pyplot as plt\n",
    "import matplotlib.cm as cm\n",
    "from mpl_toolkits.axes_grid1 import make_axes_locatable\n",
    "import matplotlib.patches as patches\n",
    "\n",
    "from scipy.stats.mstats import zscore\n",
    "from sklearn.model_selection import KFold\n",
    "from sklearn.model_selection import ParameterGrid\n",
    "from scipy.stats import sem"
   ]
  },
  {
   "cell_type": "code",
   "execution_count": 2,
   "metadata": {
    "collapsed": true
   },
   "outputs": [],
   "source": [
    "os.chdir('../')"
   ]
  },
  {
   "cell_type": "code",
   "execution_count": 3,
   "metadata": {
    "collapsed": true
   },
   "outputs": [],
   "source": [
    "# loa my modules\n",
    "from src.PMA_SCCA import SCCA\n",
    "from src.utils import load_pkl\n",
    "from src.visualise import *\n",
    "from src.file_io import save_output"
   ]
  },
  {
   "cell_type": "code",
   "execution_count": 4,
   "metadata": {
    "collapsed": false
   },
   "outputs": [],
   "source": [
    "dat_path = './data/processed/dict_SCCA_data_prepro_06092017.pkl'\n",
    "# load data\n",
    "dataset = load_pkl(dat_path)"
   ]
  },
  {
   "cell_type": "code",
   "execution_count": 5,
   "metadata": {
    "collapsed": true
   },
   "outputs": [],
   "source": [
    "FC_yeo7 = dataset['FC_Yeo7']\n",
    "MRIQ    = dataset['MRIQ']\n",
    "mot     = dataset['Motion_Jenkinson']\n",
    "sex     = dataset['Gender']\n",
    "age     = dataset['Age']"
   ]
  },
  {
   "cell_type": "markdown",
   "metadata": {},
   "source": [
    "# Cleaning confounds\n",
    "\n",
    "We first created the confound matrix according to Smith et al. (2015). The confound variables are motion (Jenkinson), sex, and age. We also created squared confound measures to help account for potentially nonlinear effects of these confounds."
   ]
  },
  {
   "cell_type": "code",
   "execution_count": 6,
   "metadata": {
    "collapsed": true
   },
   "outputs": [],
   "source": [
    "from nilearn.signal import clean"
   ]
  },
  {
   "cell_type": "code",
   "execution_count": 7,
   "metadata": {
    "collapsed": true
   },
   "outputs": [],
   "source": [
    "confound_raw = np.hstack((mot, sex, age))\n",
    "\n",
    "# standarlised\n",
    "z_ = zscore(confound_raw)\n",
    "# squared measures to help account for potentially nonlinear effects of these confounds\n",
    "z2_ = z_ ** 2\n",
    "conf_mat = np.hstack((z_, z2_))\n",
    "\n",
    "FC_yeo7_clean = clean(np.arctanh(FC_yeo7), confounds=conf_mat, detrend=False, standardize=False)\n",
    "MRIQ_clean = clean(zscore(MRIQ), confounds=conf_mat, detrend=False, standardize=False)"
   ]
  },
  {
   "cell_type": "markdown",
   "metadata": {},
   "source": [
    "# K-Fold CV for parameters/model selection"
   ]
  },
  {
   "cell_type": "markdown",
   "metadata": {},
   "source": [
    "## Decide factor number"
   ]
  },
  {
   "cell_type": "code",
   "execution_count": 8,
   "metadata": {
    "collapsed": false
   },
   "outputs": [],
   "source": [
    "X = FC_yeo7_clean\n",
    "Y = MRIQ_clean"
   ]
  },
  {
   "cell_type": "code",
   "execution_count": 9,
   "metadata": {
    "collapsed": false
   },
   "outputs": [
    {
     "name": "stdout",
     "output_type": "stream",
     "text": [
      "\n",
      "Explained variance %\n",
      "    n   exp_brain   exp_behaviour\n",
      "[[  1.      0.66    0.118]\n",
      " [  2.      0.695   0.191]\n",
      " [  3.      0.741   0.245]\n",
      " [  4.      0.774   0.318]\n",
      " [  5.      0.807   0.358]\n",
      " [  6.      0.843   0.396]\n",
      " [  7.      0.863   0.442]\n",
      " [  8.      0.882   0.472]\n",
      " [  9.      0.905   0.511]\n",
      " [ 10.      0.919   0.563]\n",
      " [ 11.      0.932   0.591]\n",
      " [ 12.      0.942   0.616]\n",
      " [ 13.      0.955   0.642]\n",
      " [ 14.      0.963   0.671]\n",
      " [ 15.      0.972   0.701]\n",
      " [ 16.      0.982   0.722]\n",
      " [ 17.      0.988   0.742]\n",
      " [ 18.      0.991   0.769]\n",
      " [ 19.      0.995   0.786]\n",
      " [ 20.      0.997   0.803]\n",
      " [ 21.      1.      0.821]]\n"
     ]
    },
    {
     "name": "stderr",
     "output_type": "stream",
     "text": [
      "/usr/lib/python2.7/dist-packages/matplotlib/figure.py:402: UserWarning: matplotlib is currently using a non-GUI backend, so cannot show the figure\n",
      "  \"matplotlib is currently using a non-GUI backend, \"\n"
     ]
    },
    {
     "data": {
      "image/png": "[encoded data removed]",
      "text/plain": [
       "<matplotlib.figure.Figure at 0x7f86e2eb4f90>"
      ]
     },
     "execution_count": 9,
     "metadata": {},
     "output_type": "execute_result"
    }
   ],
   "source": [
    "model = SCCA(n_components=None, scale=False, n_iter=50,\n",
    "                     penX=1, penY=1)\n",
    "model.model_explained(X, Y)\n",
    "model.model_evs_plot\n",
    "# plt.savefig('./reports/gridsearch_correct/select_n_comp.png', dpi=300)"
   ]
  },
  {
   "cell_type": "markdown",
   "metadata": {},
   "source": [
    "## Penalty selection CV"
   ]
  },
  {
   "cell_type": "markdown",
   "metadata": {},
   "source": [
    "Grid search range"
   ]
  },
  {
   "cell_type": "code",
   "execution_count": 10,
   "metadata": {
    "collapsed": true
   },
   "outputs": [],
   "source": [
    "param_grid = {\n",
    "    'n_factor':np.array([4]),\n",
    "    'reg_X': np.array(range(1, 10)) * 0.1,\n",
    "    'reg_Y': np.array(range(1, 10)) * 0.1,}\n",
    "out_folds = 5\n",
    "in_folds = 5"
   ]
  },
  {
   "cell_type": "markdown",
   "metadata": {},
   "source": [
    "set up inner and outer folds and the parameter grid"
   ]
  },
  {
   "cell_type": "code",
   "execution_count": 11,
   "metadata": {
    "collapsed": true
   },
   "outputs": [],
   "source": [
    "KF_out = KFold(n_splits=out_folds, shuffle=True, random_state=1)\n",
    "KF_in = KFold(n_splits=in_folds, shuffle=True, random_state=1)\n",
    "para_sets = ParameterGrid(param_grid)\n",
    "para_x, para_y = 9, 9"
   ]
  },
  {
   "cell_type": "code",
   "execution_count": 12,
   "metadata": {
    "collapsed": true
   },
   "outputs": [],
   "source": [
    "# save the training results of the inner fold\n",
    "train_mean_evs = np.zeros((out_folds, para_x, para_y))\n",
    "train_sem_evs  = np.zeros((out_folds, para_x, para_y))\n",
    "train_best_mat  = np.zeros((out_folds, para_x, para_y))\n",
    "\n",
    "# save the testing results from the outer fold\n",
    "test_evs = np.zeros(out_folds)"
   ]
  },
  {
   "cell_type": "code",
   "execution_count": 13,
   "metadata": {
    "collapsed": false,
    "scrolled": false
   },
   "outputs": [
    {
     "name": "stdout",
     "output_type": "stream",
     "text": [
      "Start fold 1\n"
     ]
    },
    {
     "data": {
      "image/png": "[encoded data removed]",
      "text/plain": [
       "<matplotlib.figure.Figure at 0x7f86dc49d610>"
      ]
     },
     "metadata": {},
     "output_type": "display_data"
    },
    {
     "name": "stdout",
     "output_type": "stream",
     "text": [
      "\n",
      "==================================================\n",
      "\n",
      "Best model: \n",
      " 4 components,penalty x: 0.5, penalty y: 0.4\n",
      "OOS performance: 0.03634410362, original:0.084723853757\n",
      "==================================================\n",
      "Start fold 2\n"
     ]
    },
    {
     "data": {
      "image/png": "[encoded data removed]",
      "text/plain": [
       "<matplotlib.figure.Figure at 0x7f86dc31dfd0>"
      ]
     },
     "metadata": {},
     "output_type": "display_data"
    },
    {
     "name": "stdout",
     "output_type": "stream",
     "text": [
      "\n",
      "==================================================\n",
      "\n",
      "Best model: \n",
      " 4 components,penalty x: 0.7, penalty y: 0.5\n",
      "OOS performance: 0.00823808774249, original:0.131448332488\n",
      "==================================================\n",
      "Start fold 3\n"
     ]
    },
    {
     "data": {
      "image/png": "[encoded data removed]",
      "text/plain": [
       "<matplotlib.figure.Figure at 0x7f86dc2fc110>"
      ]
     },
     "metadata": {},
     "output_type": "display_data"
    },
    {
     "name": "stdout",
     "output_type": "stream",
     "text": [
      "\n",
      "==================================================\n",
      "\n",
      "Best model: \n",
      " 4 components,penalty x: 0.4, penalty y: 0.9\n",
      "OOS performance: 0.0681409306883, original:0.143880701895\n",
      "==================================================\n",
      "Start fold 4\n"
     ]
    },
    {
     "data": {
      "image/png": "[encoded data removed]",
      "text/plain": [
       "<matplotlib.figure.Figure at 0x7f86dc525610>"
      ]
     },
     "metadata": {},
     "output_type": "display_data"
    },
    {
     "name": "stdout",
     "output_type": "stream",
     "text": [
      "\n",
      "==================================================\n",
      "\n",
      "Best model: \n",
      " 4 components,penalty x: 0.7, penalty y: 0.6\n",
      "OOS performance: 0.0155338239445, original:0.075398043835\n",
      "==================================================\n",
      "Start fold 5\n"
     ]
    },
    {
     "data": {
      "image/png": "[encoded data removed]",
      "text/plain": [
       "<matplotlib.figure.Figure at 0x7f86dc0ae290>"
      ]
     },
     "metadata": {},
     "output_type": "display_data"
    },
    {
     "name": "stdout",
     "output_type": "stream",
     "text": [
      "\n",
      "==================================================\n",
      "\n",
      "Best model: \n",
      " 4 components,penalty x: 0.8, penalty y: 0.4\n",
      "OOS performance: 0.0102162292398, original:0.105620143264\n",
      "==================================================\n",
      "\n",
      "New Best model: \n",
      " 4 components,penalty x: 0.4, penalty y: 0.9\n",
      "O-O-S performance: 0.0681409306883\n"
     ]
    },
    {
     "data": {
      "text/plain": [
       "['./models/SCCA_confoundclean_4_0.40_0.90_1511.pkl']"
      ]
     },
     "execution_count": 13,
     "metadata": {},
     "output_type": "execute_result"
    }
   ],
   "source": [
    "best_model = None\n",
    "best_ev  = 0\n",
    "\n",
    "# train-test split\n",
    "for i, (train_index, test_index) in enumerate(KF_out.split(FC_yeo7, MRIQ)):\n",
    "    \n",
    "    X_train_outer, y_train_outer = FC_yeo7[train_index, :], MRIQ[train_index, :]\n",
    "    X_test_outer, y_test_outer = FC_yeo7[test_index, :], MRIQ[test_index, :]\n",
    "    confmat_train_outer, confmat_test_outer = confound_raw[train_index, :], confound_raw[test_index, :]\n",
    "    \n",
    "    confmat_test_outer = np.hstack((zscore(confmat_test_outer), zscore(confmat_test_outer)**2))\n",
    "    X_test_outer = clean(np.arctanh(X_test_outer), confounds=confmat_test_outer, detrend=False, standardize=False)\n",
    "    y_test_outer = clean(zscore(y_test_outer), confounds=confmat_test_outer, detrend=False, standardize=False)\n",
    "    \n",
    "    print('Start fold {:01d}'.format(i + 1))\n",
    "    \n",
    "    out_best_model = None\n",
    "    out_best_ev  = 0\n",
    "    train_best_mat  = np.zeros((para_x, para_y))\n",
    "    for j, parameters in enumerate(iter(para_sets)):   \n",
    "        train_ev_list = np.zeros((in_folds))\n",
    "        lat_best_ev   = 0\n",
    "        lat_best_model  = None\n",
    "        # SET learning parameters\n",
    "        model = SCCA(n_components=parameters['n_factor'], scale=False, n_iter=50,\n",
    "                     penX=parameters['reg_X'], penY=parameters['reg_Y'],\n",
    "                    )\n",
    "        para_idx = np.unravel_index(j, (para_x, para_y))\n",
    "        \n",
    "        for k, (train_index, test_index) in enumerate(KF_in.split(X_train_outer, y_train_outer)):\n",
    "            # gather train-test data\n",
    "            X_train_inner, Y_train_inner = X_train_outer[train_index, :], y_train_outer[train_index, :]\n",
    "            X_test_inner, Y_test_inner = X_train_outer[test_index, :], y_train_outer[test_index, :]\n",
    "            confmat_train_inner, confmat_test_inner = confmat_train_outer[train_index, :], confmat_train_outer[test_index, :]\n",
    "            \n",
    "            confmat_train_inner = np.hstack((zscore(confmat_train_inner), zscore(confmat_train_inner)**2))\n",
    "            X_train_inner = clean(np.arctanh(X_train_inner), confounds=confmat_train_inner, detrend=False, standardize=False)\n",
    "            Y_train_inner = clean(zscore(Y_train_inner), confounds=confmat_train_inner, detrend=False, standardize=False)\n",
    "            \n",
    "            confmat_test_inner = np.hstack((zscore(confmat_test_inner), zscore(confmat_test_inner)**2))\n",
    "            X_test_inner = clean(np.arctanh(X_test_inner), confounds=confmat_test_inner, detrend=False, standardize=False)\n",
    "            Y_test_inner = clean(zscore(Y_test_inner), confounds=confmat_test_inner, detrend=False, standardize=False) \n",
    "            \n",
    "            # fit the training set\n",
    "            model.fit(X_train_inner, Y_train_inner)\n",
    "            # calculate sum of R^2 on the validation set\n",
    "            # model.score returns canonical correlations\n",
    "            r2_train = model.score(X_test_inner, Y_test_inner) / 4\n",
    "            \n",
    "            # dump to list\n",
    "            train_ev_list[k] = r2_train\n",
    "\n",
    "            if r2_train > lat_best_ev:\n",
    "                # select the best model of the current parameter set\n",
    "                lat_best_model = copy.deepcopy(model)\n",
    "                lat_best_ev = r2_train \n",
    "        \n",
    "        # Calculate the mean and sem, dump\n",
    "        train_mean_evs[i, para_idx] = np.mean(train_ev_list)\n",
    "        train_sem_evs[i, para_idx] = sem(train_ev_list, ddof=1)\n",
    "        \n",
    "        # save the best result for this parameter\n",
    "        train_best_mat[para_idx] = lat_best_ev\n",
    "\n",
    "        if lat_best_ev > out_best_ev:\n",
    "            # select the best model of the parameter set \n",
    "            out_best_ev = lat_best_ev\n",
    "            out_best_model = copy.deepcopy(lat_best_model)\n",
    "        \n",
    "    plt.close('all')\n",
    "    d_idx = np.argwhere(train_best_mat == train_best_mat.max())\n",
    "    title = 'Sparsity Parameter Search'\n",
    "    set_text_size(12)\n",
    "    fig,ax = plt.subplots()\n",
    "    hm = ax.imshow(train_best_mat.T, vmin=0, vmax=train_best_mat.max())\n",
    "    plt.xticks(range(9), np.array(range(1, 10)) * 0.1)\n",
    "    plt.yticks(range(9), np.array(range(1, 10)) * 0.1)\n",
    "    plt.xlabel('Connectivity')\n",
    "    plt.ylabel('MRIQ')\n",
    "    plt.title(title)\n",
    "    plt.colorbar(hm, label='Canonical Correlation')\n",
    "    # Create a Rectangle patch\n",
    "    rect = patches.Rectangle(d_idx[0] - 0.5, 1, 1,linewidth=2,edgecolor='r',facecolor='none')\n",
    "    # Add the patch to the Axes\n",
    "    ax.add_patch(rect)\n",
    "#    plt.savefig(para_fn, dpi=300)\n",
    "    plt.show()\n",
    "    \n",
    "    # train on the whole training srt and test set and save the R^2\n",
    "    out_best_model.fit(X_train_outer, y_train_outer)\n",
    "    r2_test = model.score(X_test_outer, y_test_outer) / 4\n",
    "    # dump\n",
    "    test_evs[i] = r2_test\n",
    "    \n",
    "    # save the model of the best model of this fold\n",
    "    joblib.dump(out_best_model, \n",
    "            './models/SCCA_confoundclean_fold{:1d}_{:1d}_{:.2f}_{:.2f}_1511.pkl'.format(\n",
    "                i + 1, out_best_model.n_components, out_best_model.penX, out_best_model.penY)) \n",
    "    print('\\n==================================================')\n",
    "    print('\\nBest model: \\n {:} components,penalty x: {:}, penalty y: {:}\\nOOS performance: {}, original:{}'.format(\n",
    "        out_best_model.n_components, out_best_model.penX,  out_best_model.penY,  r2_test, out_best_ev)) \n",
    "    print('==================================================')\n",
    "    \n",
    "    if r2_test > best_ev:\n",
    "        # select the best model across the outer folds\n",
    "        best_model = copy.deepcopy(out_best_model)\n",
    "        best_ev = r2_test\n",
    "    \n",
    "    \n",
    "print('\\nNew Best model: \\n {:} components,penalty x: {:}, penalty y: {:}\\nO-O-S performance: {}'.format(\n",
    "            best_model.n_components, best_model.penX, best_model.penY, best_ev))\n",
    "\n",
    "joblib.dump(best_model, \n",
    "            './models/SCCA_confoundclean_{:1d}_{:.2f}_{:.2f}_1511.pkl'.format(\n",
    "                best_model.n_components, best_model.penX, best_model.penY)) "
   ]
  },
  {
   "cell_type": "code",
   "execution_count": 14,
   "metadata": {
    "collapsed": true
   },
   "outputs": [],
   "source": [
    "set_text_size(12)\n",
    "u, v = best_model.u, best_model.v\n",
    "\n",
    "figs = show_results(u, v, dataset['Yeo7_ROIs'], dataset['MRIQ_labels'], rank_v=True, sparse=True)\n",
    "\n",
    "write_pdf('./reports/revision/bestModel_confoundclean_collection_nested_{0:1d}_{1:.1f}_{2:.1f}_.pdf'.format(\n",
    "                best_model.n_components, best_model.penX, best_model.penY), figs)"
   ]
  },
  {
   "cell_type": "code",
   "execution_count": 15,
   "metadata": {
    "collapsed": true
   },
   "outputs": [],
   "source": [
    "X_scores, Y_scores, df_z = save_output(dataset, best_model, X, Y, path=None)"
   ]
  },
  {
   "cell_type": "code",
   "execution_count": 16,
   "metadata": {
    "collapsed": true
   },
   "outputs": [],
   "source": [
    "df_z.to_csv('./data/processed/NYCQ_CCA_score_rev1_{0:1d}_{1:.1f}_{2:.1f}.csv'.format(\n",
    "            best_model.n_components, best_model.penX, best_model.penY))\n",
    "df_z.to_pickle('./data/processed/NYCQ_CCA_score_rev1_{0:1d}_{1:.1f}_{2:.1f}.pkl'.format(\n",
    "            best_model.n_components, best_model.penX, best_model.penY))"
   ]
  }
 ],
 "metadata": {
  "kernelspec": {
   "display_name": "Python 2",
   "language": "python",
   "name": "python2"
  },
  "language_info": {
   "codemirror_mode": {
    "name": "ipython",
    "version": 2
   },
   "file_extension": ".py",
   "mimetype": "text/x-python",
   "name": "python",
   "nbconvert_exporter": "python",
   "pygments_lexer": "ipython2",
   "version": "2.7.13"
  }
 },
 "nbformat": 4,
 "nbformat_minor": 2
}
