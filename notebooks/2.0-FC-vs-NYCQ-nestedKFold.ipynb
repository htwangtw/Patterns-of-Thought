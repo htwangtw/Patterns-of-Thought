{
 "cells": [
  {
   "cell_type": "code",
   "execution_count": 1,
   "metadata": {
    "collapsed": false
   },
   "outputs": [],
   "source": [
    "import copy\n",
    "import os, sys\n",
    "import numpy as np\n",
    "import pandas as pd\n",
    "\n",
    "import joblib\n",
    "\n",
    "import matplotlib\n",
    "import matplotlib as mpl\n",
    "import matplotlib.pyplot as plt\n",
    "import matplotlib.cm as cm\n",
    "from mpl_toolkits.axes_grid1 import make_axes_locatable\n",
    "import matplotlib.patches as patches\n",
    "\n",
    "from scipy.stats.mstats import zscore\n",
    "from sklearn.model_selection import KFold\n",
    "from sklearn.model_selection import ParameterGrid\n",
    "from scipy.stats import sem\n",
    "\n",
    "from nilearn.signal import clean"
   ]
  },
  {
   "cell_type": "code",
   "execution_count": 2,
   "metadata": {
    "collapsed": true
   },
   "outputs": [],
   "source": [
    "os.chdir('../')"
   ]
  },
  {
   "cell_type": "code",
   "execution_count": 3,
   "metadata": {
    "collapsed": true
   },
   "outputs": [],
   "source": [
    "# loa my modules\n",
    "from src.PMA_SCCA import SCCA\n",
    "from src.utils import load_pkl\n",
    "from src.visualise import *\n",
    "from src.file_io import save_output"
   ]
  },
  {
   "cell_type": "code",
   "execution_count": 4,
   "metadata": {
    "collapsed": false
   },
   "outputs": [],
   "source": [
    "dat_path = './data/processed/dict_SCCA_data_prepro_06092017.pkl'\n",
    "# load data\n",
    "dataset = load_pkl(dat_path)"
   ]
  },
  {
   "cell_type": "code",
   "execution_count": 5,
   "metadata": {
    "collapsed": true
   },
   "outputs": [],
   "source": [
    "FC_yeo7 = dataset['FC_Yeo7']\n",
    "MRIQ    = dataset['MRIQ']\n",
    "mot     = dataset['Motion_Jenkinson']\n",
    "sex     = dataset['Gender']\n",
    "age     = dataset['Age']\n",
    "confound_raw = np.hstack((mot, sex, age))"
   ]
  },
  {
   "cell_type": "code",
   "execution_count": 6,
   "metadata": {
    "collapsed": true
   },
   "outputs": [],
   "source": [
    "def parameter_grid(para, para_fn):\n",
    "    i = np.argmax(para)\n",
    "    d_idx = np.unravel_index(i, para.shape)\n",
    "    \n",
    "    title = 'Sparsity Parameter Search'\n",
    "    hm = plt.matshow(para.T, vmin=0, vmax=para.max())\n",
    "    plt.xticks(range(9), np.array(range(1, 10)) * 0.1)\n",
    "    plt.yticks(range(9), np.array(range(1, 10)) * 0.1)\n",
    "    plt.xlabel('Connectivity')\n",
    "    plt.ylabel('Cognitive Task')\n",
    "    plt.title(title)\n",
    "    plt.colorbar(hm, label='Canonical Correlation')\n",
    "    # Create a Rectangle patch\n",
    "    rect = patches.Rectangle(np.array(d_idx) - 0.5, 1, 1,linewidth=2,edgecolor='r',facecolor='none')\n",
    "    # Add the patch to the Axes\n",
    "    hm.axes.add_patch(rect)\n",
    "    hm.axes.xaxis.set_ticks_position('bottom')\n",
    "#     for (i, j), z in np.ndenumerate(K_mat.T):\n",
    "#         hm.axes.text(j, i, '{:0}'.format(z), ha='center', va='center')\n",
    "\n",
    "    plt.show()\n",
    "    #     plt.savefig(para_fn, dpi=300)\n",
    "    plt.close()\n",
    "\n",
    "    return d_idx"
   ]
  },
  {
   "cell_type": "markdown",
   "metadata": {},
   "source": [
    "# Cleaning confounds\n",
    "\n",
    "We first created the confound matrix according to Smith et al. (2015). The confound variables are motion (Jenkinson), sex, and age. We also created squared confound measures to help account for potentially nonlinear effects of these confounds."
   ]
  },
  {
   "cell_type": "code",
   "execution_count": 7,
   "metadata": {
    "collapsed": true
   },
   "outputs": [],
   "source": [
    "def clean_confound(RS, COG, confmat):\n",
    "\n",
    "    # regress out confound\n",
    "    z_confound = zscore(confmat)\n",
    "    # squared measures to help account for potentially nonlinear effects of these confounds\n",
    "    z2_confound = z_confound ** 2\n",
    "    conf_mat = np.hstack((z_confound, z2_confound))\n",
    "\n",
    "    # clean signal\n",
    "    RS_clean = clean(np.arctanh(RS), confounds=conf_mat, detrend=False, standardize=False)\n",
    "    COG_clean = clean(zscore(COG), confounds=conf_mat, detrend=False, standardize=False)\n",
    "\n",
    "    return RS_clean, COG_clean, conf_mat"
   ]
  },
  {
   "cell_type": "markdown",
   "metadata": {},
   "source": [
    "# K-Fold CV for parameters/model selection"
   ]
  },
  {
   "cell_type": "markdown",
   "metadata": {},
   "source": [
    "## Penalty selection CV\n",
    "\n",
    "Grid search range, set up inner and outer folds and the parameter grid"
   ]
  },
  {
   "cell_type": "code",
   "execution_count": 8,
   "metadata": {
    "collapsed": true
   },
   "outputs": [],
   "source": [
    "out_folds = 5\n",
    "in_folds = 5\n",
    "para_x, para_y = 9, 9\n",
    "n_selected = 6\n",
    "param_setting = {\n",
    "    'reg_X': np.array(range(1, para_x + 1)) * 0.1,\n",
    "    'reg_Y': np.array(range(1, para_y + 1)) * 0.1,}"
   ]
  },
  {
   "cell_type": "code",
   "execution_count": 9,
   "metadata": {
    "collapsed": false
   },
   "outputs": [],
   "source": [
    "KF_out = KFold(n_splits=out_folds, shuffle=True, random_state=42)\n",
    "KF_in = KFold(n_splits=in_folds)\n",
    "param_grid = ParameterGrid(param_setting)"
   ]
  },
  {
   "cell_type": "code",
   "execution_count": 12,
   "metadata": {
    "collapsed": false,
    "scrolled": false
   },
   "outputs": [
    {
     "name": "stdout",
     "output_type": "stream",
     "text": [
      "==Train-test split 1/5==\n"
     ]
    },
    {
     "ename": "IndexError",
     "evalue": "invalid index to scalar variable.",
     "output_type": "error",
     "traceback": [
      "\u001b[0;31m---------------------------------------------------------------------------\u001b[0m",
      "\u001b[0;31mIndexError\u001b[0m                                Traceback (most recent call last)",
      "\u001b[0;32m<ipython-input-12-7650e05a449a>\u001b[0m in \u001b[0;36m<module>\u001b[0;34m()\u001b[0m\n\u001b[1;32m     33\u001b[0m             \u001b[0mmodel\u001b[0m\u001b[0;34m.\u001b[0m\u001b[0mfit\u001b[0m\u001b[0;34m(\u001b[0m\u001b[0mX_train_clean\u001b[0m\u001b[0;34m,\u001b[0m \u001b[0mY_train_clean\u001b[0m\u001b[0;34m)\u001b[0m\u001b[0;34m\u001b[0m\u001b[0m\n\u001b[1;32m     34\u001b[0m             \u001b[0;31m# use the first component to select the best parameter set\u001b[0m\u001b[0;34m\u001b[0m\u001b[0;34m\u001b[0m\u001b[0m\n\u001b[0;32m---> 35\u001b[0;31m             \u001b[0md_k\u001b[0m \u001b[0;34m=\u001b[0m \u001b[0mmodel\u001b[0m\u001b[0;34m.\u001b[0m\u001b[0mscore\u001b[0m\u001b[0;34m(\u001b[0m\u001b[0mX_confirm_clean\u001b[0m\u001b[0;34m,\u001b[0m \u001b[0mY_confirm_clean\u001b[0m\u001b[0;34m)\u001b[0m\u001b[0;34m[\u001b[0m\u001b[0;36m0\u001b[0m\u001b[0;34m]\u001b[0m\u001b[0;34m\u001b[0m\u001b[0m\n\u001b[0m\u001b[1;32m     36\u001b[0m \u001b[0;34m\u001b[0m\u001b[0m\n\u001b[1;32m     37\u001b[0m             \u001b[0;31m#error_k = np.abs(d_orig - d_k)\u001b[0m\u001b[0;34m\u001b[0m\u001b[0;34m\u001b[0m\u001b[0m\n",
      "\u001b[0;31mIndexError\u001b[0m: invalid index to scalar variable."
     ]
    }
   ],
   "source": [
    "best_model = None\n",
    "best_corr = 0\n",
    "para_search = np.zeros((para_x, para_y, out_folds))\n",
    "para_fn = ''\n",
    "for i, (train_idx, test_idx) in enumerate(KF_out.split(FC_yeo7)):\n",
    "    print('==Train-test split {0:}/{1:}=='.format(i + 1, out_folds))\n",
    "    X_discovery, X_test = FC_yeo7[train_idx], FC_yeo7[test_idx]\n",
    "    Y_discovery, Y_test = MRIQ[train_idx], MRIQ[test_idx]\n",
    "    conf_discovery, conf_test = confound_raw[train_idx], confound_raw[test_idx]\n",
    "\n",
    "    para_mean = np.zeros((para_x, para_y))\n",
    "    for j, parameters in enumerate(iter(param_grid)):\n",
    "        para_idx = np.unravel_index(j, para_mean.shape) # (C_x,C_y, K)\n",
    "        model = SCCA(n_components=n_selected, scale=True, n_iter=50,\n",
    "                     penX=parameters['reg_X'], penY=parameters['reg_Y'],\n",
    "                    )\n",
    "        j_model = None\n",
    "        dj_best = 1\n",
    "        dj_orig = 0\n",
    "        dj_list = []\n",
    "        for k, (train_idx, test_idx) in enumerate(KF_in.split(X_discovery)):\n",
    "\n",
    "            # find best weights for this hyper parameter set\n",
    "            X_train, X_confirm = X_discovery[train_idx], X_discovery[test_idx]\n",
    "            Y_train, Y_confirm = Y_discovery[train_idx], Y_discovery[test_idx]\n",
    "            conf_train, conf_confirm = conf_discovery[train_idx], conf_discovery[test_idx]\n",
    "\n",
    "            X_train_clean, Y_train_clean, confmat_train_clean = clean_confound(\n",
    "                                        X_train, Y_train, conf_train)\n",
    "            X_confirm_clean, Y_confirm_clean, conf_confirm_clean = clean_confound(\n",
    "                            X_confirm, Y_confirm, conf_confirm)\n",
    "\n",
    "            model.fit(X_train_clean, Y_train_clean)\n",
    "            # use the first component to select the best parameter set\n",
    "            d_k = model.score(X_confirm_clean, Y_confirm_clean)[0]\n",
    "            \n",
    "            #error_k = np.abs(d_orig - d_k)\n",
    "            dj_list.append(d_k)\n",
    "\n",
    "        para_mean[para_idx] = np.mean(dj_list)\n",
    "        \n",
    "    # plot the model search of current fold\n",
    "    d_idx = parameter_grid(para_mean, para_fn)\n",
    "    C = 0.1 * (np.array(d_idx) + 1)\n",
    "    \n",
    "    \n",
    "    # apply test set on the final model\n",
    "    X_discovery_clean, Y_discovery_clean, conf_discovery_clean = clean_confound(X_discovery, Y_discovery, conf_discovery)\n",
    "    X_test_clean, Y_test_clean, conf_test_clean = clean_confound(X_test, Y_test, conf_test)\n",
    "    i_model = SCCA(n_components=n_selected, scale=True, n_iter=50,\n",
    "                     penX=C[0], penY=C[1],\n",
    "                    )\n",
    "    i_model.fit(X_discovery_clean, Y_discovery_clean)\n",
    "    di = i_model.score(X_test_clean, Y_test_clean)[0]\n",
    "#     pred_error = np.abs(di_orig - di)\n",
    "    print('\\nBest parameters based on discovery set cross-validation:{:}'.format(C))\n",
    "    print('test set oos:{:f}'.format(di))    \n",
    "    if di > best_corr:\n",
    "        best_corr = di\n",
    "        best_model = copy.deepcopy(i_model)\n",
    "    para_search[..., i] = para_mean\n",
    "\n",
    "# final parameter\n",
    "print('\\nBest parameters based on outer fold results: X-{:}; Y-{:}'.format(best_model.penX, best_model.penY))\n",
    "print('OOS: {}'.format(best_corr))"
   ]
  },
  {
   "cell_type": "code",
   "execution_count": 11,
   "metadata": {
    "collapsed": false
   },
   "outputs": [
    {
     "name": "stdout",
     "output_type": "stream",
     "text": [
      "\n",
      "Explained variance %\n",
      "    n   exp_brain   exp_behaviour\n",
      "[[  1.      0.081   0.149]\n",
      " [  2.      0.16    0.192]\n",
      " [  3.      0.244   0.233]\n",
      " [  4.      0.32    0.277]\n",
      " [  5.      0.399   0.315]\n",
      " [  6.      0.474   0.354]\n",
      " [  7.      0.539   0.411]\n",
      " [  8.      0.598   0.45 ]\n",
      " [  9.      0.675   0.496]\n",
      " [ 10.      0.748   0.522]\n",
      " [ 11.      0.81    0.552]\n",
      " [ 12.      0.862   0.604]\n",
      " [ 13.      0.89    0.632]\n",
      " [ 14.      0.907   0.654]\n",
      " [ 15.      0.921   0.678]\n",
      " [ 16.      0.942   0.707]\n",
      " [ 17.      0.953   0.734]\n",
      " [ 18.      0.962   0.761]\n",
      " [ 19.      0.97    0.781]\n",
      " [ 20.      0.981   0.8  ]\n",
      " [ 21.      1.      0.821]]\n"
     ]
    },
    {
     "name": "stderr",
     "output_type": "stream",
     "text": [
      "/usr/lib/python2.7/dist-packages/matplotlib/figure.py:402: UserWarning: matplotlib is currently using a non-GUI backend, so cannot show the figure\n",
      "  \"matplotlib is currently using a non-GUI backend, \"\n"
     ]
    },
    {
     "data": {
      "image/png": "[encoded data removed]",
      "text/plain": [
       "<matplotlib.figure.Figure at 0x7f1561030ad0>"
      ]
     },
     "execution_count": 11,
     "metadata": {},
     "output_type": "execute_result"
    }
   ],
   "source": [
    "X, Y, _ = clean_confound(FC_yeo7, MRIQ, confound_raw)\n",
    "\n",
    "X_scores, Y_scores, df_z = save_output(dataset, best_model, X, Y, path=None)\n",
    "best_model.model_explained(X, Y)\n",
    "best_model.model_evs_plot"
   ]
  },
  {
   "cell_type": "code",
   "execution_count": null,
   "metadata": {
    "collapsed": true
   },
   "outputs": [],
   "source": [
    "best_model.n"
   ]
  },
  {
   "cell_type": "code",
   "execution_count": null,
   "metadata": {
    "collapsed": true
   },
   "outputs": [],
   "source": [
    "joblib.dump(best_model, \n",
    "            './models/SCCA_Yeo7_{:1d}_{:.2f}_{:.2f}.pkl'.format(\n",
    "                best_model.n_components, best_model.penX, best_model.penY))\n",
    "\n",
    "set_text_size(12)\n",
    "u, v = best_model.u, best_model.v\n",
    "\n",
    "figs = show_results(u, v, dataset['Yeo7_ROIs'], dataset['MRIQ_labels'], rank_v=True, sparse=True)\n",
    "\n",
    "write_pdf('./reports/revision/bestModel_confoundclean_collection_nested_{0:1d}_{1:.1f}_{2:.1f}_.pdf'.format(\n",
    "                best_model.n_components, best_model.penX, best_model.penY), figs)"
   ]
  },
  {
   "cell_type": "code",
   "execution_count": null,
   "metadata": {
    "collapsed": true
   },
   "outputs": [],
   "source": [
    "df_z.to_csv('./data/processed/NYCQ_CCA_score_rev1_{0:1d}_{1:.1f}_{2:.1f}.csv'.format(\n",
    "            best_model.n_components, best_model.penX, best_model.penY))\n",
    "df_z.to_pickle('./data/processed/NYCQ_CCA_score_rev1_{0:1d}_{1:.1f}_{2:.1f}.pkl'.format(\n",
    "            best_model.n_components, best_model.penX, best_model.penY))"
   ]
  }
 ],
 "metadata": {
  "kernelspec": {
   "display_name": "Python 2",
   "language": "python",
   "name": "python2"
  },
  "language_info": {
   "codemirror_mode": {
    "name": "ipython",
    "version": 2
   },
   "file_extension": ".py",
   "mimetype": "text/x-python",
   "name": "python",
   "nbconvert_exporter": "python",
   "pygments_lexer": "ipython2",
   "version": "2.7.13"
  }
 },
 "nbformat": 4,
 "nbformat_minor": 2
}
